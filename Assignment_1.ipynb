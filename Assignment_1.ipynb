{
 "cells": [
  {
   "cell_type": "markdown",
   "id": "f157e2eb-748e-4e8b-9ccf-7b71704638ae",
   "metadata": {},
   "source": [
    "Problem: 01\n",
    "A Python program that takes a number as input and checks whether it is even or odd."
   ]
  },
  {
   "cell_type": "code",
   "execution_count": 2,
   "id": "96fac794-16d3-4247-ac86-220a465aa394",
   "metadata": {},
   "outputs": [
    {
     "name": "stdin",
     "output_type": "stream",
     "text": [
      "Enter a number:  5\n"
     ]
    },
    {
     "name": "stdout",
     "output_type": "stream",
     "text": [
      "5 is an odd number.\n"
     ]
    }
   ],
   "source": [
    "# input from the user\n",
    "num = int(input(\"Enter a number: \"))\n",
    "\n",
    "# Check if the number is even or odd\n",
    "if num % 2 == 0:\n",
    "    print(f\"{num} is an even number.\")\n",
    "else:\n",
    "    print(f\"{num} is an odd number.\")\n"
   ]
  },
  {
   "cell_type": "markdown",
   "id": "31b7257b-a507-4aaf-be59-409af0e1fb7a",
   "metadata": {},
   "source": [
    "Problem: 02"
   ]
  },
  {
   "cell_type": "code",
   "execution_count": 5,
   "id": "c9a89ebf-c234-4144-82ff-7f61c628c537",
   "metadata": {},
   "outputs": [
    {
     "name": "stdin",
     "output_type": "stream",
     "text": [
      "Enter the first number:  7\n",
      "Enter an operator (+, -, *, /):  -\n",
      "Enter the second number:  3\n"
     ]
    },
    {
     "name": "stdout",
     "output_type": "stream",
     "text": [
      "The result of 7.0 - 3.0 is 4.0\n"
     ]
    }
   ],
   "source": [
    "# input from the user\n",
    "num1 = float(input(\"Enter the first number: \"))\n",
    "operator = input(\"Enter an operator (+, -, *, /): \")\n",
    "num2 = float(input(\"Enter the second number: \"))\n",
    "\n",
    "# Perform calculation based on the operator\n",
    "if operator == '+':\n",
    "    result = num1 + num2\n",
    "    print(f\"The result of {num1} + {num2} is {result}\")\n",
    "elif operator == '-':\n",
    "    result = num1 - num2\n",
    "    print(f\"The result of {num1} - {num2} is {result}\")\n",
    "elif operator == '*':\n",
    "    result = num1 * num2\n",
    "    print(f\"The result of {num1} * {num2} is {result}\")\n",
    "elif operator == '/':\n",
    "    if num2 != 0:\n",
    "        result = num1 / num2\n",
    "        print(f\"The result of {num1} / {num2} is {result}\")\n",
    "    else:\n",
    "        print(\"Error: Division by zero is not allowed.\")\n",
    "else:\n",
    "    print(\"Invalid operator. Please use +, -, *, or /.\")\n"
   ]
  },
  {
   "cell_type": "markdown",
   "id": "7b62b19f-80ac-4f55-9187-8c1aa39f01ec",
   "metadata": {},
   "source": [
    "Problem: 03"
   ]
  },
  {
   "cell_type": "code",
   "execution_count": 8,
   "id": "e674c3ce-3706-4ecf-b0cc-d09f2e23e0f0",
   "metadata": {},
   "outputs": [
    {
     "name": "stdout",
     "output_type": "stream",
     "text": [
      "The sum of even numbers from 1 to 100 is: 2550\n"
     ]
    }
   ],
   "source": [
    "sum_even = 0\n",
    "\n",
    "for num in range(1, 101):\n",
    "    if num % 2 == 0:\n",
    "        sum_even += num\n",
    "\n",
    "print(\"The sum of even numbers from 1 to 100 is:\", sum_even)\n"
   ]
  },
  {
   "cell_type": "code",
   "execution_count": null,
   "id": "930bde16-f4ff-43de-8498-4d2834f71250",
   "metadata": {},
   "outputs": [],
   "source": []
  }
 ],
 "metadata": {
  "kernelspec": {
   "display_name": "Python [conda env:base] *",
   "language": "python",
   "name": "conda-base-py"
  },
  "language_info": {
   "codemirror_mode": {
    "name": "ipython",
    "version": 3
   },
   "file_extension": ".py",
   "mimetype": "text/x-python",
   "name": "python",
   "nbconvert_exporter": "python",
   "pygments_lexer": "ipython3",
   "version": "3.12.7"
  }
 },
 "nbformat": 4,
 "nbformat_minor": 5
}
